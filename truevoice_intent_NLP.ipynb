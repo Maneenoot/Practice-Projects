{
  "nbformat": 4,
  "nbformat_minor": 0,
  "metadata": {
    "colab": {
      "name": "truevoice-intent-NLP.ipynb",
      "provenance": []
    },
    "kernelspec": {
      "name": "python3",
      "display_name": "Python 3"
    }
  },
  "cells": [
    {
      "cell_type": "code",
      "metadata": {
        "id": "geV-Iakxz6Ko",
        "colab_type": "code",
        "colab": {
          "base_uri": "https://localhost:8080/",
          "height": 140
        },
        "outputId": "1a28ee58-fb12-45a6-f174-384d99c439cf"
      },
      "source": [
        "!gdown --id 1KASGYBqpi2BmtIeRbFKbttXfIoSgMhY5\n",
        "!unzip truevoice-intent.zip"
      ],
      "execution_count": 1,
      "outputs": [
        {
          "output_type": "stream",
          "text": [
            "Downloading...\n",
            "From: https://drive.google.com/uc?id=1KASGYBqpi2BmtIeRbFKbttXfIoSgMhY5\n",
            "To: /content/truevoice-intent.zip\n",
            "\r  0% 0.00/614k [00:00<?, ?B/s]\r100% 614k/614k [00:00<00:00, 82.3MB/s]\n",
            "Archive:  truevoice-intent.zip\n",
            "  inflating: mari_train.csv          \n",
            "  inflating: mari_test.csv           \n"
          ],
          "name": "stdout"
        }
      ]
    },
    {
      "cell_type": "code",
      "metadata": {
        "id": "tCWtfEir0KE1",
        "colab_type": "code",
        "colab": {}
      },
      "source": [
        "# import lib\n",
        "import numpy as np\n",
        "import pandas as pd"
      ],
      "execution_count": 2,
      "outputs": []
    },
    {
      "cell_type": "markdown",
      "metadata": {
        "id": "Ke9dj1-O0YtO",
        "colab_type": "text"
      },
      "source": [
        "# Load data"
      ]
    },
    {
      "cell_type": "code",
      "metadata": {
        "id": "fptoYsryV7bM",
        "colab_type": "code",
        "colab": {}
      },
      "source": [
        "def load_data():\n",
        "  train_df = pd.read_csv('mari_train.csv')\n",
        "  test_df = pd.read_csv('mari_test.csv')\n",
        "  return train_df, test_df"
      ],
      "execution_count": 3,
      "outputs": []
    },
    {
      "cell_type": "code",
      "metadata": {
        "id": "glofj3iH0Wtr",
        "colab_type": "code",
        "colab": {}
      },
      "source": [
        "train_df, test_df = load_data()"
      ],
      "execution_count": 4,
      "outputs": []
    },
    {
      "cell_type": "code",
      "metadata": {
        "id": "xnbLx9Uf0dna",
        "colab_type": "code",
        "colab": {
          "base_uri": "https://localhost:8080/",
          "height": 203
        },
        "outputId": "287f045f-790b-4610-b818-cf5578cbc3d0"
      },
      "source": [
        "train_df.head()"
      ],
      "execution_count": 5,
      "outputs": [
        {
          "output_type": "execute_result",
          "data": {
            "text/html": [
              "<div>\n",
              "<style scoped>\n",
              "    .dataframe tbody tr th:only-of-type {\n",
              "        vertical-align: middle;\n",
              "    }\n",
              "\n",
              "    .dataframe tbody tr th {\n",
              "        vertical-align: top;\n",
              "    }\n",
              "\n",
              "    .dataframe thead th {\n",
              "        text-align: right;\n",
              "    }\n",
              "</style>\n",
              "<table border=\"1\" class=\"dataframe\">\n",
              "  <thead>\n",
              "    <tr style=\"text-align: right;\">\n",
              "      <th></th>\n",
              "      <th>texts</th>\n",
              "      <th>texts_deepcut</th>\n",
              "      <th>action</th>\n",
              "      <th>object</th>\n",
              "      <th>destination</th>\n",
              "    </tr>\n",
              "  </thead>\n",
              "  <tbody>\n",
              "    <tr>\n",
              "      <th>0</th>\n",
              "      <td>ผมไปจ่ายเงินที่ Counter Services เค้าเช็ต . บ...</td>\n",
              "      <td>ผม ไป จ่าย เงิน ที่ Counter Services เค้า เช็...</td>\n",
              "      <td>enquire</td>\n",
              "      <td>payment</td>\n",
              "      <td>billing and payment</td>\n",
              "    </tr>\n",
              "    <tr>\n",
              "      <th>1</th>\n",
              "      <td>internet ยังความเร็วอยุ่เท่าไหร ครับ</td>\n",
              "      <td>internet ยัง ความ เร็ว อยุ่ เท่า ไหร ครับ</td>\n",
              "      <td>enquire</td>\n",
              "      <td>package</td>\n",
              "      <td>promotions</td>\n",
              "    </tr>\n",
              "    <tr>\n",
              "      <th>2</th>\n",
              "      <td>ตะกี้ไปชำระค่าบริการไปแล้ว แต่ยังใช้งานไม่ได้...</td>\n",
              "      <td>ตะกี้ ไป ชำระ ค่า บริการ ไป แล้ว แต่ ยัง ใช้ ...</td>\n",
              "      <td>report</td>\n",
              "      <td>suspend</td>\n",
              "      <td>billing and payment</td>\n",
              "    </tr>\n",
              "    <tr>\n",
              "      <th>3</th>\n",
              "      <td>พี่ค่ะยังใช้ internet ไม่ได้เลยค่ะ เป็นเครื่อ...</td>\n",
              "      <td>พี่ ค่ะ ยัง ใช้ internet ไม่ ได้ เลย ค่ะ เป็น...</td>\n",
              "      <td>enquire</td>\n",
              "      <td>internet</td>\n",
              "      <td>internet</td>\n",
              "    </tr>\n",
              "    <tr>\n",
              "      <th>4</th>\n",
              "      <td>ฮาโหล คะ พอดีว่าเมื่อวานเปิดซิมทรูมูฟ แต่มันโ...</td>\n",
              "      <td>ฮาโหล คะ พอดี ว่า เมื่อ วาน เปิด ซิม ทรูมูฟ แ...</td>\n",
              "      <td>report</td>\n",
              "      <td>phone_issues</td>\n",
              "      <td>billing and payment</td>\n",
              "    </tr>\n",
              "  </tbody>\n",
              "</table>\n",
              "</div>"
            ],
            "text/plain": [
              "                                               texts  ...          destination\n",
              "0   ผมไปจ่ายเงินที่ Counter Services เค้าเช็ต . บ...  ...  billing and payment\n",
              "1               internet ยังความเร็วอยุ่เท่าไหร ครับ  ...           promotions\n",
              "2   ตะกี้ไปชำระค่าบริการไปแล้ว แต่ยังใช้งานไม่ได้...  ...  billing and payment\n",
              "3   พี่ค่ะยังใช้ internet ไม่ได้เลยค่ะ เป็นเครื่อ...  ...             internet\n",
              "4   ฮาโหล คะ พอดีว่าเมื่อวานเปิดซิมทรูมูฟ แต่มันโ...  ...  billing and payment\n",
              "\n",
              "[5 rows x 5 columns]"
            ]
          },
          "metadata": {
            "tags": []
          },
          "execution_count": 5
        }
      ]
    },
    {
      "cell_type": "code",
      "metadata": {
        "id": "3VtxMIPjhoYw",
        "colab_type": "code",
        "colab": {
          "base_uri": "https://localhost:8080/",
          "height": 158
        },
        "outputId": "cd4f96e2-d428-4784-e266-a921e41e7c55"
      },
      "source": [
        "# ดู Destination ว่ามีหัวข้ออะไรบ้าง\n",
        "train_df['destination'].value_counts()/len(train_df)"
      ],
      "execution_count": 6,
      "outputs": [
        {
          "output_type": "execute_result",
          "data": {
            "text/plain": [
              "billing and payment      0.386970\n",
              "promotions               0.242600\n",
              "other queries            0.172888\n",
              "internet                 0.143906\n",
              "international dialing    0.025968\n",
              "true money               0.015534\n",
              "lost and stolen          0.012134\n",
              "Name: destination, dtype: float64"
            ]
          },
          "metadata": {
            "tags": []
          },
          "execution_count": 6
        }
      ]
    },
    {
      "cell_type": "code",
      "metadata": {
        "id": "HgQ6mulUhy1g",
        "colab_type": "code",
        "colab": {
          "base_uri": "https://localhost:8080/",
          "height": 35
        },
        "outputId": "fef7f70b-38d5-4768-ca77-305b00c62d57"
      },
      "source": [
        "#สุ่มมาดูว่า text เขาต้องการอะไร\n",
        "train_df['texts'].values[20]"
      ],
      "execution_count": 7,
      "outputs": [
        {
          "output_type": "execute_result",
          "data": {
            "application/vnd.google.colaboratory.intrinsic+json": {
              "type": "string"
            },
            "text/plain": [
              "' หมายเลขนี้โดนระงับบริการเหรอค่ะ'"
            ]
          },
          "metadata": {
            "tags": []
          },
          "execution_count": 7
        }
      ]
    },
    {
      "cell_type": "markdown",
      "metadata": {
        "id": "CM4_h4GP0yby",
        "colab_type": "text"
      },
      "source": [
        "# Feature Extraction"
      ]
    },
    {
      "cell_type": "code",
      "metadata": {
        "id": "UWNBuOHq0j_R",
        "colab_type": "code",
        "colab": {
          "base_uri": "https://localhost:8080/",
          "height": 52
        },
        "outputId": "acd53bd2-a71f-43a4-b4f8-07cd548db2ff"
      },
      "source": [
        "# import lib ที่ไว้ใช้จัดการข้อมูล text ที่เป็นภาษาไทย\n",
        "!pip install pythainlp -q"
      ],
      "execution_count": 8,
      "outputs": [
        {
          "output_type": "stream",
          "text": [
            "\u001b[K     |████████████████████████████████| 13.1MB 326kB/s \n",
            "\u001b[K     |████████████████████████████████| 747kB 56.2MB/s \n",
            "\u001b[?25h"
          ],
          "name": "stdout"
        }
      ]
    },
    {
      "cell_type": "markdown",
      "metadata": {
        "id": "9TRJEnUL1FGi",
        "colab_type": "text"
      },
      "source": [
        "#### Word tokenization\n",
        "การตัดคำ"
      ]
    },
    {
      "cell_type": "code",
      "metadata": {
        "id": "y6gyGZRj02d_",
        "colab_type": "code",
        "colab": {}
      },
      "source": [
        "# สิ่งแรกของการทำ NLP คือการทำ Word tokenization(ตัดคำ)\n",
        "#เรียกใช้ funtion ใน word_tokenize\n",
        "from pythainlp import word_tokenize"
      ],
      "execution_count": 9,
      "outputs": []
    },
    {
      "cell_type": "code",
      "metadata": {
        "id": "89f9xJhF04rW",
        "colab_type": "code",
        "colab": {}
      },
      "source": [
        "#สร้าง funtion\n",
        "def get_th_tokens(text):\n",
        "  # text = text.replace(' ','')\n",
        "  # text = text.replace('\\n', '')\n",
        "  tokens = word_tokenize(text, engine='newmm') # engine คือเราจะตัดคำด้วยวิธีไหน\n",
        "  return tokens"
      ],
      "execution_count": 10,
      "outputs": []
    },
    {
      "cell_type": "markdown",
      "metadata": {
        "id": "l-ioNhB6ff4Q",
        "colab_type": "text"
      },
      "source": [
        "http://thainlp.org/pythainlp/docs/2.0/api/tokenize.html"
      ]
    },
    {
      "cell_type": "code",
      "metadata": {
        "id": "3BzU1dEM1BxS",
        "colab_type": "code",
        "colab": {
          "base_uri": "https://localhost:8080/",
          "height": 34
        },
        "outputId": "6b0427c9-3d11-46c3-c0f0-71457994434e"
      },
      "source": [
        "get_th_tokens('ฉันไปโรงเรียน') # ลองใส่ text ลงไป"
      ],
      "execution_count": 11,
      "outputs": [
        {
          "output_type": "execute_result",
          "data": {
            "text/plain": [
              "['ฉัน', 'ไป', 'โรงเรียน']"
            ]
          },
          "metadata": {
            "tags": []
          },
          "execution_count": 11
        }
      ]
    },
    {
      "cell_type": "code",
      "metadata": {
        "id": "cs9IgCX2ipKe",
        "colab_type": "code",
        "colab": {
          "base_uri": "https://localhost:8080/",
          "height": 34
        },
        "outputId": "668a9160-c852-40df-e814-2237b4920c96"
      },
      "source": [
        "len(get_th_tokens('ฉันไปโรงเรียน'))"
      ],
      "execution_count": 12,
      "outputs": [
        {
          "output_type": "execute_result",
          "data": {
            "text/plain": [
              "3"
            ]
          },
          "metadata": {
            "tags": []
          },
          "execution_count": 12
        }
      ]
    },
    {
      "cell_type": "code",
      "metadata": {
        "id": "ISGNZ0Koii0z",
        "colab_type": "code",
        "colab": {
          "base_uri": "https://localhost:8080/",
          "height": 34
        },
        "outputId": "5632894a-5931-45d3-d08c-439beb821a1f"
      },
      "source": [
        "get_th_tokens('ผมหิวข้าวจังเลย5555')"
      ],
      "execution_count": 13,
      "outputs": [
        {
          "output_type": "execute_result",
          "data": {
            "text/plain": [
              "['ผม', 'หิวข้าว', 'จัง', 'เลย', '5555']"
            ]
          },
          "metadata": {
            "tags": []
          },
          "execution_count": 13
        }
      ]
    },
    {
      "cell_type": "markdown",
      "metadata": {
        "id": "GT68jJeH2mze",
        "colab_type": "text"
      },
      "source": [
        "#### Bag of words (BOW)"
      ]
    },
    {
      "cell_type": "code",
      "metadata": {
        "id": "Ecxb-kjr1HJJ",
        "colab_type": "code",
        "colab": {}
      },
      "source": [
        "from sklearn.feature_extraction.text import CountVectorizer"
      ],
      "execution_count": 14,
      "outputs": []
    },
    {
      "cell_type": "code",
      "metadata": {
        "id": "pFH3JTMN1XBY",
        "colab_type": "code",
        "colab": {}
      },
      "source": [
        "# กำหนดคำที่จะทำ bow ขึ้นมา\n",
        "data = ['ฉันไปโรงเรียน', 'โรงเรียนของเราน่าอยู่', 'คุณครูใจดีทุกคน', 'ฉันกินปลา', 'ปลากินฉัน']"
      ],
      "execution_count": 15,
      "outputs": []
    },
    {
      "cell_type": "code",
      "metadata": {
        "id": "cqXRqiCe1cbE",
        "colab_type": "code",
        "colab": {
          "base_uri": "https://localhost:8080/",
          "height": 122
        },
        "outputId": "56732b6a-3622-41af-9a73-90687fb00f3e"
      },
      "source": [
        "# train vectorizer\n",
        "vectorizer = CountVectorizer()\n",
        "vectorizer.fit(data)"
      ],
      "execution_count": 16,
      "outputs": [
        {
          "output_type": "execute_result",
          "data": {
            "text/plain": [
              "CountVectorizer(analyzer='word', binary=False, decode_error='strict',\n",
              "                dtype=<class 'numpy.int64'>, encoding='utf-8', input='content',\n",
              "                lowercase=True, max_df=1.0, max_features=None, min_df=1,\n",
              "                ngram_range=(1, 1), preprocessor=None, stop_words=None,\n",
              "                strip_accents=None, token_pattern='(?u)\\\\b\\\\w\\\\w+\\\\b',\n",
              "                tokenizer=None, vocabulary=None)"
            ]
          },
          "metadata": {
            "tags": []
          },
          "execution_count": 16
        }
      ]
    },
    {
      "cell_type": "code",
      "metadata": {
        "id": "5JJ4JFpU1fc0",
        "colab_type": "code",
        "colab": {
          "base_uri": "https://localhost:8080/",
          "height": 228
        },
        "outputId": "6251b196-efe3-477c-e411-360e9e344671"
      },
      "source": [
        "vectorizer.get_feature_names() #ตัวนี้เราไม่ได้บอกว่าตัดแบบไหน เดิมใช้กับภาษาอังกิด เลยจะออกมาแปลกๆ"
      ],
      "execution_count": 17,
      "outputs": [
        {
          "output_type": "execute_result",
          "data": {
            "text/plain": [
              "['กคน',\n",
              " 'ณคร',\n",
              " 'นก',\n",
              " 'นฉ',\n",
              " 'นปลา',\n",
              " 'นไปโรงเร',\n",
              " 'ปลาก',\n",
              " 'ยน',\n",
              " 'ยนของเราน',\n",
              " 'าอย',\n",
              " 'โรงเร',\n",
              " 'ใจด']"
            ]
          },
          "metadata": {
            "tags": []
          },
          "execution_count": 17
        }
      ]
    },
    {
      "cell_type": "code",
      "metadata": {
        "id": "RFg0B4Bu1hvT",
        "colab_type": "code",
        "colab": {
          "base_uri": "https://localhost:8080/",
          "height": 266
        },
        "outputId": "65be953e-e6cc-4dae-d1a7-4cbad9e5fa1d"
      },
      "source": [
        "# train vectorizer\n",
        "vectorizer = CountVectorizer(tokenizer=get_th_tokens)\n",
        "vectorizer.fit(data)\n",
        "vectorizer.get_feature_names()"
      ],
      "execution_count": 18,
      "outputs": [
        {
          "output_type": "stream",
          "text": [
            "/usr/local/lib/python3.6/dist-packages/sklearn/feature_extraction/text.py:507: UserWarning: The parameter 'token_pattern' will not be used since 'tokenizer' is not None'\n",
            "  warnings.warn(\"The parameter 'token_pattern' will not be used\"\n"
          ],
          "name": "stderr"
        },
        {
          "output_type": "execute_result",
          "data": {
            "text/plain": [
              "['กิน',\n",
              " 'ของ',\n",
              " 'คุณครู',\n",
              " 'ฉัน',\n",
              " 'ทุกคน',\n",
              " 'น่าอยู่',\n",
              " 'ปลา',\n",
              " 'เรา',\n",
              " 'โรงเรียน',\n",
              " 'ใจดี',\n",
              " 'ไป']"
            ]
          },
          "metadata": {
            "tags": []
          },
          "execution_count": 18
        }
      ]
    },
    {
      "cell_type": "code",
      "metadata": {
        "id": "RlSbZuOR1kO8",
        "colab_type": "code",
        "colab": {
          "base_uri": "https://localhost:8080/",
          "height": 203
        },
        "outputId": "c71641a9-1b62-416e-ba87-1858c1f94c32"
      },
      "source": [
        "bow = vectorizer.transform(data).toarray()\n",
        "df = pd.DataFrame(bow, columns= vectorizer.get_feature_names())\n",
        "df['text'] = data\n",
        "df"
      ],
      "execution_count": 19,
      "outputs": [
        {
          "output_type": "execute_result",
          "data": {
            "text/html": [
              "<div>\n",
              "<style scoped>\n",
              "    .dataframe tbody tr th:only-of-type {\n",
              "        vertical-align: middle;\n",
              "    }\n",
              "\n",
              "    .dataframe tbody tr th {\n",
              "        vertical-align: top;\n",
              "    }\n",
              "\n",
              "    .dataframe thead th {\n",
              "        text-align: right;\n",
              "    }\n",
              "</style>\n",
              "<table border=\"1\" class=\"dataframe\">\n",
              "  <thead>\n",
              "    <tr style=\"text-align: right;\">\n",
              "      <th></th>\n",
              "      <th>กิน</th>\n",
              "      <th>ของ</th>\n",
              "      <th>คุณครู</th>\n",
              "      <th>ฉัน</th>\n",
              "      <th>ทุกคน</th>\n",
              "      <th>น่าอยู่</th>\n",
              "      <th>ปลา</th>\n",
              "      <th>เรา</th>\n",
              "      <th>โรงเรียน</th>\n",
              "      <th>ใจดี</th>\n",
              "      <th>ไป</th>\n",
              "      <th>text</th>\n",
              "    </tr>\n",
              "  </thead>\n",
              "  <tbody>\n",
              "    <tr>\n",
              "      <th>0</th>\n",
              "      <td>0</td>\n",
              "      <td>0</td>\n",
              "      <td>0</td>\n",
              "      <td>1</td>\n",
              "      <td>0</td>\n",
              "      <td>0</td>\n",
              "      <td>0</td>\n",
              "      <td>0</td>\n",
              "      <td>1</td>\n",
              "      <td>0</td>\n",
              "      <td>1</td>\n",
              "      <td>ฉันไปโรงเรียน</td>\n",
              "    </tr>\n",
              "    <tr>\n",
              "      <th>1</th>\n",
              "      <td>0</td>\n",
              "      <td>1</td>\n",
              "      <td>0</td>\n",
              "      <td>0</td>\n",
              "      <td>0</td>\n",
              "      <td>1</td>\n",
              "      <td>0</td>\n",
              "      <td>1</td>\n",
              "      <td>1</td>\n",
              "      <td>0</td>\n",
              "      <td>0</td>\n",
              "      <td>โรงเรียนของเราน่าอยู่</td>\n",
              "    </tr>\n",
              "    <tr>\n",
              "      <th>2</th>\n",
              "      <td>0</td>\n",
              "      <td>0</td>\n",
              "      <td>1</td>\n",
              "      <td>0</td>\n",
              "      <td>1</td>\n",
              "      <td>0</td>\n",
              "      <td>0</td>\n",
              "      <td>0</td>\n",
              "      <td>0</td>\n",
              "      <td>1</td>\n",
              "      <td>0</td>\n",
              "      <td>คุณครูใจดีทุกคน</td>\n",
              "    </tr>\n",
              "    <tr>\n",
              "      <th>3</th>\n",
              "      <td>1</td>\n",
              "      <td>0</td>\n",
              "      <td>0</td>\n",
              "      <td>1</td>\n",
              "      <td>0</td>\n",
              "      <td>0</td>\n",
              "      <td>1</td>\n",
              "      <td>0</td>\n",
              "      <td>0</td>\n",
              "      <td>0</td>\n",
              "      <td>0</td>\n",
              "      <td>ฉันกินปลา</td>\n",
              "    </tr>\n",
              "    <tr>\n",
              "      <th>4</th>\n",
              "      <td>1</td>\n",
              "      <td>0</td>\n",
              "      <td>0</td>\n",
              "      <td>1</td>\n",
              "      <td>0</td>\n",
              "      <td>0</td>\n",
              "      <td>1</td>\n",
              "      <td>0</td>\n",
              "      <td>0</td>\n",
              "      <td>0</td>\n",
              "      <td>0</td>\n",
              "      <td>ปลากินฉัน</td>\n",
              "    </tr>\n",
              "  </tbody>\n",
              "</table>\n",
              "</div>"
            ],
            "text/plain": [
              "   กิน  ของ  คุณครู  ฉัน  ทุกคน  ...  เรา  โรงเรียน  ใจดี  ไป                   text\n",
              "0    0    0       0    1      0  ...    0         1     0   1          ฉันไปโรงเรียน\n",
              "1    0    1       0    0      0  ...    1         1     0   0  โรงเรียนของเราน่าอยู่\n",
              "2    0    0       1    0      1  ...    0         0     1   0        คุณครูใจดีทุกคน\n",
              "3    1    0       0    1      0  ...    0         0     0   0              ฉันกินปลา\n",
              "4    1    0       0    1      0  ...    0         0     0   0              ปลากินฉัน\n",
              "\n",
              "[5 rows x 12 columns]"
            ]
          },
          "metadata": {
            "tags": []
          },
          "execution_count": 19
        }
      ]
    },
    {
      "cell_type": "code",
      "metadata": {
        "id": "jdafLXSokWfa",
        "colab_type": "code",
        "colab": {}
      },
      "source": [
        "#ข้อเสียของการทำ bow มันแปลงเป็นเวกเตอร์เดียว [ฉันกินปลา,ปลากินฉัน] แต่ความจริงคือคนละความหมาย"
      ],
      "execution_count": 20,
      "outputs": []
    },
    {
      "cell_type": "code",
      "metadata": {
        "id": "Reb-HxiY121y",
        "colab_type": "code",
        "colab": {
          "base_uri": "https://localhost:8080/",
          "height": 34
        },
        "outputId": "c416bda5-3a76-4d50-8dcc-c9e9bf75d107"
      },
      "source": [
        "vectorizer.transform(['โรงเรียนไปโรงเรียน']).toarray()"
      ],
      "execution_count": 21,
      "outputs": [
        {
          "output_type": "execute_result",
          "data": {
            "text/plain": [
              "array([[0, 0, 0, 0, 0, 0, 0, 0, 2, 0, 1]])"
            ]
          },
          "metadata": {
            "tags": []
          },
          "execution_count": 21
        }
      ]
    },
    {
      "cell_type": "markdown",
      "metadata": {
        "id": "jVedv0Pd2vSr",
        "colab_type": "text"
      },
      "source": [
        "#### Bag of words (BOW) - N grams"
      ]
    },
    {
      "cell_type": "code",
      "metadata": {
        "id": "oep5wTXL2Fsq",
        "colab_type": "code",
        "colab": {
          "base_uri": "https://localhost:8080/",
          "height": 195
        },
        "outputId": "84dc6ff5-2cbb-4389-a996-75a92f357366"
      },
      "source": [
        "vectorizer = CountVectorizer(tokenizer=get_th_tokens, ngram_range=(2,2))\n",
        "vectorizer.fit(data)"
      ],
      "execution_count": 22,
      "outputs": [
        {
          "output_type": "stream",
          "text": [
            "/usr/local/lib/python3.6/dist-packages/sklearn/feature_extraction/text.py:507: UserWarning: The parameter 'token_pattern' will not be used since 'tokenizer' is not None'\n",
            "  warnings.warn(\"The parameter 'token_pattern' will not be used\"\n"
          ],
          "name": "stderr"
        },
        {
          "output_type": "execute_result",
          "data": {
            "text/plain": [
              "CountVectorizer(analyzer='word', binary=False, decode_error='strict',\n",
              "                dtype=<class 'numpy.int64'>, encoding='utf-8', input='content',\n",
              "                lowercase=True, max_df=1.0, max_features=None, min_df=1,\n",
              "                ngram_range=(2, 2), preprocessor=None, stop_words=None,\n",
              "                strip_accents=None, token_pattern='(?u)\\\\b\\\\w\\\\w+\\\\b',\n",
              "                tokenizer=<function get_th_tokens at 0x7f31950880d0>,\n",
              "                vocabulary=None)"
            ]
          },
          "metadata": {
            "tags": []
          },
          "execution_count": 22
        }
      ]
    },
    {
      "cell_type": "code",
      "metadata": {
        "id": "e9OnsBMgl1lO",
        "colab_type": "code",
        "colab": {
          "base_uri": "https://localhost:8080/",
          "height": 1000
        },
        "outputId": "32fb765f-96ce-47df-d46a-da728e83995d"
      },
      "source": [
        "vectorizer.get_feature_names()"
      ],
      "execution_count": 46,
      "outputs": [
        {
          "output_type": "execute_result",
          "data": {
            "text/plain": [
              "['\\n',\n",
              " '\\n  ',\n",
              " '\\n true',\n",
              " '\\n กับ',\n",
              " '\\n กาแล็กซี่',\n",
              " '\\n ขอ',\n",
              " '\\n ของ',\n",
              " '\\n ครับ',\n",
              " '\\n คือ',\n",
              " '\\n คุย',\n",
              " '\\n ค่า',\n",
              " '\\n ค่าใช้จ่าย',\n",
              " '\\n จะ',\n",
              " '\\n จี',\n",
              " '\\n ชำระ',\n",
              " '\\n ดังกล่าว',\n",
              " '\\n ดึง',\n",
              " '\\n ตอนนี้',\n",
              " '\\n ติด',\n",
              " '\\n ต้อง',\n",
              " '\\n ต้องการ',\n",
              " '\\n ถูก',\n",
              " '\\n ถ้า',\n",
              " '\\n ทรู',\n",
              " '\\n ทรูมูฟ',\n",
              " '\\n ทั้งที่',\n",
              " '\\n ทั้งสิ้น',\n",
              " '\\n ทีนี้',\n",
              " '\\n ที่',\n",
              " '\\n บอ',\n",
              " '\\n ผม',\n",
              " '\\n พน',\n",
              " '\\n มัน',\n",
              " '\\n มีปัญหา',\n",
              " '\\n ยัง',\n",
              " '\\n ยังอยู่',\n",
              " '\\n ยืนยัน',\n",
              " '\\n ยู',\n",
              " '\\n ย้าย',\n",
              " '\\n รบกวน',\n",
              " '\\n รายละเอียด',\n",
              " '\\n ลอง',\n",
              " '\\n ว่า',\n",
              " '\\n สนใจ',\n",
              " '\\n สามารถ',\n",
              " '\\n ส่ง',\n",
              " '\\n ส่วนลด',\n",
              " '\\n อยาก',\n",
              " '\\n อยากได้',\n",
              " '\\n อย่าง',\n",
              " '\\n อัล',\n",
              " '\\n อา',\n",
              " '\\n อินเตอร์เน็ต',\n",
              " '\\n เกิด',\n",
              " '\\n เครื่อง',\n",
              " '\\n เค้า',\n",
              " '\\n เงิน',\n",
              " '\\n เติม',\n",
              " '\\n เนื่องจาก',\n",
              " '\\n เปลี่ยน',\n",
              " '\\n เป็น',\n",
              " '\\n เป็นระบบ',\n",
              " '\\n เพราะ',\n",
              " '\\n เมื่อวาน',\n",
              " '\\n เรียบร้อย',\n",
              " '\\n เล่น',\n",
              " '\\n เวลา',\n",
              " '\\n แต่',\n",
              " '\\n แต่ว่า',\n",
              " '\\n แพ็กเกจ',\n",
              " '\\n แพ็คเกจ',\n",
              " '\\n และ',\n",
              " '\\n แล้',\n",
              " '\\n แล้ว',\n",
              " '\\n แล้วก็',\n",
              " '\\n โทร',\n",
              " '\\n โปรโมชั่น',\n",
              " '\\n ใช้',\n",
              " '\\n ใช้ได้',\n",
              " '\\n ใบเสร็จ',\n",
              " '\\n ได้',\n",
              " '\\n ไป',\n",
              " '\\n ไม่',\n",
              " '\\n ไว้',\n",
              " ' ',\n",
              " '  \\n',\n",
              " '  \"',\n",
              " '  #',\n",
              " '  #)',\n",
              " '  %',\n",
              " '  %ห',\n",
              " '  &',\n",
              " '  (',\n",
              " '  (*',\n",
              " '  )',\n",
              " '  *',\n",
              " '  +',\n",
              " '  ,',\n",
              " '  ,กด',\n",
              " '  ,ขอ',\n",
              " '  -',\n",
              " '  -call',\n",
              " '  -eleven',\n",
              " '  -xxxxxxx',\n",
              " '  .',\n",
              " '  ...',\n",
              " '  ....',\n",
              " '  .....',\n",
              " '  ......',\n",
              " '  .........',\n",
              " '  .พอ',\n",
              " '  /',\n",
              " '  //',\n",
              " '  ?',\n",
              " '  @',\n",
              " '  account',\n",
              " '  activate',\n",
              " '  active',\n",
              " '  add',\n",
              " '  address',\n",
              " '  adsl',\n",
              " '  air',\n",
              " '  aircard',\n",
              " '  ais',\n",
              " '  alert',\n",
              " '  all',\n",
              " '  and',\n",
              " '  android',\n",
              " '  app',\n",
              " '  appilcation',\n",
              " '  apple',\n",
              " '  application',\n",
              " '  appstore',\n",
              " '  arc',\n",
              " '  asdl',\n",
              " '  atb',\n",
              " '  atm',\n",
              " '  balance',\n",
              " '  bank',\n",
              " '  banking',\n",
              " '  bb',\n",
              " '  bbm',\n",
              " '  bbnet',\n",
              " '  berry',\n",
              " '  big',\n",
              " '  bill',\n",
              " '  billion',\n",
              " '  black',\n",
              " '  blackberry',\n",
              " '  blackburry',\n",
              " '  blackery',\n",
              " '  blacklist',\n",
              " '  block',\n",
              " '  bonus',\n",
              " '  book',\n",
              " '  box',\n",
              " '  browser',\n",
              " '  busy',\n",
              " '  by',\n",
              " '  c',\n",
              " '  cable',\n",
              " '  call',\n",
              " '  callig',\n",
              " '  calling',\n",
              " '  cancel',\n",
              " '  card',\n",
              " '  care',\n",
              " '  cat',\n",
              " '  cd',\n",
              " '  center',\n",
              " '  central',\n",
              " '  chat',\n",
              " '  check',\n",
              " '  cinemax',\n",
              " '  citi',\n",
              " '  claim',\n",
              " '  clip',\n",
              " '  clubbinbit',\n",
              " '  cms',\n",
              " '  code',\n",
              " '  computer',\n",
              " '  connect',\n",
              " '  connet',\n",
              " '  contact',\n",
              " '  contacts',\n",
              " '  contect',\n",
              " '  content',\n",
              " '  counter',\n",
              " '  credit',\n",
              " '  customer',\n",
              " '  daily',\n",
              " '  data',\n",
              " '  date',\n",
              " '  day',\n",
              " '  denine',\n",
              " '  divert',\n",
              " '  docsis',\n",
              " '  download',\n",
              " '  dtac',\n",
              " '  e',\n",
              " '  e-',\n",
              " '  e-banking',\n",
              " '  e-mail',\n",
              " '  eage',\n",
              " '  easy',\n",
              " '  edge',\n",
              " '  eep',\n",
              " '  egde',\n",
              " '  email',\n",
              " '  emergency',\n",
              " '  ericsson',\n",
              " '  error',\n",
              " '  expo',\n",
              " '  f-book',\n",
              " '  face',\n",
              " '  face-book',\n",
              " '  facebook',\n",
              " '  fair',\n",
              " '  fashion',\n",
              " '  fax',\n",
              " '  fb',\n",
              " '  feackbook',\n",
              " '  firewall',\n",
              " '  firmware',\n",
              " '  forget',\n",
              " '  format',\n",
              " '  forward',\n",
              " '  fox',\n",
              " '  fpn',\n",
              " '  free',\n",
              " '  future',\n",
              " '  fw',\n",
              " '  g',\n",
              " '  galaxsy',\n",
              " '  galaxy',\n",
              " '  gard',\n",
              " '  gb',\n",
              " '  gh',\n",
              " '  gis',\n",
              " '  go',\n",
              " '  go-live',\n",
              " '  goal',\n",
              " '  golive',\n",
              " '  google',\n",
              " '  gprs',\n",
              " '  grand',\n",
              " '  gs',\n",
              " '  gsm',\n",
              " '  h',\n",
              " '  hbo',\n",
              " '  hd',\n",
              " '  hi',\n",
              " '  hi-speed',\n",
              " '  hispeed',\n",
              " '  host',\n",
              " '  hotspot',\n",
              " '  htc',\n",
              " '  htv',\n",
              " '  hutch',\n",
              " '  i',\n",
              " '  i-mobile',\n",
              " '  i-pad',\n",
              " '  i-phone',\n",
              " '  i-play',\n",
              " '  i-service',\n",
              " '  ict',\n",
              " '  id',\n",
              " '  ie',\n",
              " '  ii',\n",
              " '  imm',\n",
              " '  imobile',\n",
              " '  in',\n",
              " '  inet',\n",
              " '  info',\n",
              " '  inn',\n",
              " '  intenet',\n",
              " '  inter',\n",
              " '  internet',\n",
              " '  ios',\n",
              " '  ip',\n",
              " '  ipad',\n",
              " '  ipay',\n",
              " '  iphne',\n",
              " '  iphon',\n",
              " '  iphone',\n",
              " '  iplay',\n",
              " '  ipone',\n",
              " '  isamrt',\n",
              " '  iservice',\n",
              " '  isim',\n",
              " '  island',\n",
              " '  ismart',\n",
              " '  it',\n",
              " '  italk',\n",
              " '  itune',\n",
              " '  itunes',\n",
              " '  javagame',\n",
              " '  jio',\n",
              " '  joke',\n",
              " '  k',\n",
              " '  knowelage',\n",
              " '  knowledge',\n",
              " '  knowlegde',\n",
              " '  knowlege',\n",
              " '  koy',\n",
              " '  ktb',\n",
              " '  l',\n",
              " '  lan',\n",
              " '  laptop',\n",
              " '  life',\n",
              " '  lift',\n",
              " '  limit',\n",
              " '  line',\n",
              " '  link',\n",
              " '  lite',\n",
              " '  live',\n",
              " '  load',\n",
              " '  lock',\n",
              " '  log',\n",
              " '  loggo',\n",
              " '  login',\n",
              " '  low',\n",
              " '  lumia',\n",
              " '  m',\n",
              " '  mac',\n",
              " '  mail',\n",
              " '  mall',\n",
              " '  manager',\n",
              " '  massage',\n",
              " '  masseage',\n",
              " '  mb',\n",
              " '  mbps',\n",
              " '  melody',\n",
              " '  memory',\n",
              " '  message',\n",
              " '  messege',\n",
              " '  micro',\n",
              " '  microsim',\n",
              " '  mini',\n",
              " '  miss',\n",
              " '  missed',\n",
              " '  mms',\n",
              " '  mnp',\n",
              " '  mobile',\n",
              " '  modem',\n",
              " '  money',\n",
              " '  move',\n",
              " '  msn',\n",
              " '  mt',\n",
              " '  music',\n",
              " '  n',\n",
              " '  name',\n",
              " '  net',\n",
              " '  network',\n",
              " '  new',\n",
              " '  news',\n",
              " '  no',\n",
              " '  nokia',\n",
              " '  note',\n",
              " '  notebook',\n",
              " '  np',\n",
              " '  o',\n",
              " '  of',\n",
              " '  off',\n",
              " '  offline',\n",
              " '  on',\n",
              " '  one',\n",
              " '  online',\n",
              " '  operator',\n",
              " '  otp',\n",
              " '  pacakage',\n",
              " '  pacakge',\n",
              " '  pack',\n",
              " '  package',\n",
              " '  pad',\n",
              " '  paid',\n",
              " '  pakcage',\n",
              " '  pass',\n",
              " '  password',\n",
              " '  pct',\n",
              " '  phone',\n",
              " '  pin',\n",
              " '  pkg',\n",
              " '  plan',\n",
              " '  play',\n",
              " '  player',\n",
              " '  plus',\n",
              " '  polly',\n",
              " '  port',\n",
              " '  pre',\n",
              " '  preview',\n",
              " '  pro',\n",
              " '  promotion',\n",
              " '  puk',\n",
              " '  push',\n",
              " '  r',\n",
              " '  rate',\n",
              " '  red',\n",
              " '  ref',\n",
              " '  register',\n",
              " '  requst',\n",
              " '  reset',\n",
              " '  restart',\n",
              " '  restore',\n",
              " '  reward',\n",
              " '  ring',\n",
              " '  roaming',\n",
              " '  romimg',\n",
              " '  romming',\n",
              " '  router',\n",
              " '  s',\n",
              " '  sale',\n",
              " '  samsung',\n",
              " '  save',\n",
              " '  scb',\n",
              " '  searching',\n",
              " '  service',\n",
              " '  services',\n",
              " '  session',\n",
              " '  set',\n",
              " '  setting',\n",
              " '  shop',\n",
              " '  sii',\n",
              " '  siii',\n",
              " '  sim',\n",
              " '  size',\n",
              " '  skyp',\n",
              " '  slip',\n",
              " '  sm',\n",
              " '  small',\n",
              " '  smart',\n",
              " '  smartphone',\n",
              " '  sms',\n",
              " '  smurfcare',\n",
              " '  social',\n",
              " '  sony',\n",
              " '  sorry',\n",
              " '  spare',\n",
              " '  speed',\n",
              " '  spicy',\n",
              " '  sport',\n",
              " '  ss',\n",
              " '  statement',\n",
              " '  store',\n",
              " '  sumsung',\n",
              " '  surf',\n",
              " '  swap',\n",
              " '  sync',\n",
              " '  t',\n",
              " '  tab',\n",
              " '  tablet',\n",
              " '  take',\n",
              " '  talk',\n",
              " '  th',\n",
              " '  thailand',\n",
              " '  the',\n",
              " '  thetow',\n",
              " '  tip',\n",
              " '  tm',\n",
              " '  tmh',\n",
              " '  tmn',\n",
              " '  tmv',\n",
              " '  tmv-h',\n",
              " '  tmvh',\n",
              " '  to',\n",
              " '  together',\n",
              " '  top',\n",
              " '  topping',\n",
              " '  transfer',\n",
              " '  trip',\n",
              " '  true',\n",
              " '  trueh',\n",
              " '  truelife',\n",
              " '  truemoney',\n",
              " '  truemove',\n",
              " '  truemoveh',\n",
              " '  trueonline',\n",
              " '  trueshop',\n",
              " '  truewifi',\n",
              " '  tue',\n",
              " '  tuk',\n",
              " '  ture',\n",
              " '  tv',\n",
              " '  tvs',\n",
              " '  twitter',\n",
              " '  u',\n",
              " '  ubc',\n",
              " '  uim',\n",
              " '  ultra',\n",
              " '  unlimit',\n",
              " '  unlimited',\n",
              " '  up',\n",
              " '  upc',\n",
              " '  update',\n",
              " '  url',\n",
              " '  usage',\n",
              " '  usb',\n",
              " '  use',\n",
              " '  user',\n",
              " '  username',\n",
              " '  usesage',\n",
              " '  utube',\n",
              " '  vdo',\n",
              " '  vision',\n",
              " '  vission',\n",
              " '  voice',\n",
              " '  w',\n",
              " '  was',\n",
              " '  web',\n",
              " '  what',\n",
              " '  whatapp',\n",
              " '  whatsapp',\n",
              " '  wi-fi',\n",
              " '  wifi',\n",
              " '  wifii',\n",
              " '  wii',\n",
              " '  wiifi',\n",
              " '  wireless',\n",
              " '  word',\n",
              " '  www',\n",
              " '  x',\n",
              " '  xl',\n",
              " '  xperia',\n",
              " '  xxx',\n",
              " '  xxxx',\n",
              " '  xxxxx',\n",
              " '  xxxxxx',\n",
              " '  xxxxxxx',\n",
              " '  xxxxxxxx',\n",
              " '  xxxxxxxxx',\n",
              " '  xxxxxxxxxx',\n",
              " '  y',\n",
              " '  yootube',\n",
              " '  yoube',\n",
              " '  youtobe',\n",
              " '  youtube',\n",
              " '  ก.พ.',\n",
              " '  กด',\n",
              " '  กบ',\n",
              " '  กรณี',\n",
              " '  กรอก',\n",
              " '  กระจาย',\n",
              " '  กรุงเทพ',\n",
              " '  กรุณา',\n",
              " '  กลับมา',\n",
              " '  กลับเป็น',\n",
              " '  กลัว',\n",
              " '  กลางวัน',\n",
              " '  กล่อง',\n",
              " '  กวนใจ',\n",
              " '  กว่า',\n",
              " '  กสทช.',\n",
              " '  กสิกร',\n",
              " '  กะ',\n",
              " '  กับ',\n",
              " '  กา',\n",
              " '  การ',\n",
              " '  การยืม',\n",
              " '  การใช้งาน',\n",
              " '  การ์ด',\n",
              " '  กาแล',\n",
              " '  กาแล็กซี่',\n",
              " '  กำลัง',\n",
              " '  กำหนด',\n",
              " '  กิน',\n",
              " '  กิ๊ก',\n",
              " '  กี่',\n",
              " '  กี้',\n",
              " '  กุมภา',\n",
              " '  ก็',\n",
              " '  ก่อน',\n",
              " '  ก่อนหน้านี้',\n",
              " '  ก้',\n",
              " '  ก้อ',\n",
              " '  ก๊อ',\n",
              " '  ขณะ',\n",
              " '  ขนาด',\n",
              " '  ขยะ',\n",
              " '  ขอ',\n",
              " '  ของ',\n",
              " '  ของหลวง',\n",
              " '  ขอบคุณ',\n",
              " '  ขออนุญาต',\n",
              " '  ขออภัย',\n",
              " '  ขอโทษ',\n",
              " '  ขอให้',\n",
              " '  ขัดข้อง',\n",
              " '  ขั้นต่ำ',\n",
              " '  ขาด',\n",
              " '  ขาย',\n",
              " '  ขึ้น',\n",
              " '  ขึ้นไป',\n",
              " '  ขูด',\n",
              " '  ข่าว',\n",
              " '  ข่าวสด',\n",
              " '  ข่าวสาร',\n",
              " '  ข้อความ',\n",
              " '  ข้อมูล',\n",
              " '  ข้างต้น',\n",
              " '  ข้างใน',\n",
              " '  คง',\n",
              " '  คงจะ',\n",
              " '  คงเหลือ',\n",
              " '  คน',\n",
              " '  คนโปรด',\n",
              " '  ครบ',\n",
              " '  ครบกำหนด',\n",
              " '  ครับ',\n",
              " '  ครับผม',\n",
              " '  ครั้ง',\n",
              " '  คราวก่อน',\n",
              " '  คราวนี้',\n",
              " '  คลิป',\n",
              " '  คลื่น',\n",
              " '  คล้ายๆ',\n",
              " '  ความ',\n",
              " '  ความหมาย',\n",
              " '  ความเร็ว',\n",
              " '  คอ',\n",
              " '  คอน',\n",
              " '  คอนเนค',\n",
              " '  คอนเฟิร์ม',\n",
              " '  คอนเสิร์ต',\n",
              " '  คอมพิวเตอร์',\n",
              " '  คะ',\n",
              " '  คัดลอก',\n",
              " '  คับ',\n",
              " '  คำถาม',\n",
              " '  คำเตือน',\n",
              " '  คิด',\n",
              " '  คิดเงิน',\n",
              " '  คีย์',\n",
              " '  คืว่า',\n",
              " '  คือ',\n",
              " '  คุณ',\n",
              " '  คุณผู้หญิง',\n",
              " '  คุณพ่อ',\n",
              " '  คุณภาพ',\n",
              " '  คุย',\n",
              " '  คูณ',\n",
              " '  คูลเลอร์',\n",
              " '  คู่',\n",
              " '  คู่สาย',\n",
              " '  ค่ะ',\n",
              " '  ค่า',\n",
              " '  ค่าบริการ',\n",
              " '  ค่าโทรศัพท์',\n",
              " '  ค่าใช้จ่าย',\n",
              " '  ค้า',\n",
              " '  ค้าง',\n",
              " '  ค้างชำระ',\n",
              " '  งก',\n",
              " '  งง',\n",
              " '  งาน',\n",
              " '  จดทะเบียน',\n",
              " '  จดหมาย',\n",
              " '  จน',\n",
              " '  จนถึง',\n",
              " '  จนท.',\n",
              " '  จริงๆ',\n",
              " '  จอด',\n",
              " '  จะ',\n",
              " '  จะแจ้ง',\n",
              " '  จัง',\n",
              " '  จัด',\n",
              " '  จาก',\n",
              " '  จาน',\n",
              " '  จำ',\n",
              " '  จำกัด',\n",
              " '  จำนวน',\n",
              " '  จำเป็นต้อง',\n",
              " '  จำได้',\n",
              " '  จิ๊ก',\n",
              " '  จี',\n",
              " '  จีเอสเอ็ม',\n",
              " '  จีเอ็มเอ็ม',\n",
              " '  จึง',\n",
              " '  จุด',\n",
              " '  จ่าย',\n",
              " '  จ๊ะ',\n",
              " '  ฉุกเฉิน',\n",
              " '  ชน',\n",
              " '  ชนะ',\n",
              " '  ชม',\n",
              " '  ชม.',\n",
              " '  ชล',\n",
              " '  ชลบุรี',\n",
              " '  ชอบ',\n",
              " '  ชัย',\n",
              " '  ชั่ง',\n",
              " '  ชั่ว',\n",
              " '  ชั่วคราว',\n",
              " '  ชั่วโมง',\n",
              " '  ชั้น',\n",
              " '  ชายแดน',\n",
              " '  ชาร์ท',\n",
              " '  ชาวต่างชาติ',\n",
              " '  ชำ',\n",
              " '  ชำระ',\n",
              " '  ชำระเงิน',\n",
              " '  ชิ',\n",
              " '  ชือ่',\n",
              " '  ชือ่....',\n",
              " '  ชื่อ',\n",
              " '  ช็อบ',\n",
              " '  ช็อป',\n",
              " '  ช่วง',\n",
              " '  ช่วงนี้',\n",
              " '  ช่วงหลัง',\n",
              " '  ช่วย',\n",
              " '  ช่อง',\n",
              " '  ช่าง',\n",
              " '  ช่าย',\n",
              " '  ช่้วย',\n",
              " '  ช้อ',\n",
              " '  ช้อป',\n",
              " '  ช้า',\n",
              " '  ช๊อป',\n",
              " '  ซอ',\n",
              " '  ซัก',\n",
              " '  ซัมซุง',\n",
              " '  ซิงค์',\n",
              " '  ซิตี้',\n",
              " '  ซิม',\n",
              " '  ซิ่',\n",
              " '  ซี',\n",
              " '  ซึ่ง',\n",
              " '  ซืม',\n",
              " '  ซื้อ',\n",
              " '  ซุปเปอร์',\n",
              " '  ซ้อ',\n",
              " '  ณ',\n",
              " '  ดทร',\n",
              " '  ดปร',\n",
              " '  ดวง',\n",
              " '  ดา',\n",
              " '  ดารา',\n",
              " '  ดาว',\n",
              " '  ดิ',\n",
              " '  ดิฉัน',\n",
              " '  ดิชั้น',\n",
              " '  ดี',\n",
              " '  ดีแทค',\n",
              " '  ดึง',\n",
              " '  ดู',\n",
              " '  ดูด',\n",
              " '  ดูดวง',\n",
              " '  ดูเหมือน',\n",
              " '  ดูไม่ได้',\n",
              " '  ด้วย',\n",
              " '  ด้วยกัน',\n",
              " '  ด้วยว่า',\n",
              " '  ตก',\n",
              " '  ตรง',\n",
              " '  ตรงนี้',\n",
              " '  ตรงไหน',\n",
              " '  ตรวจ',\n",
              " '  ตรวจดู',\n",
              " '  ตรวจสอบ',\n",
              " '  ตลอด',\n",
              " '  ตอน',\n",
              " '  ตอนที่',\n",
              " '  ตอนนี้',\n",
              " '  ตอนเที่ยง',\n",
              " '  ตอนแรก',\n",
              " '  ตอบ',\n",
              " '  ตอ้งกด',\n",
              " '  ตะกี้',\n",
              " '  ตัง',\n",
              " '  ตังค์',\n",
              " '  ตัด',\n",
              " '  ตัว',\n",
              " '  ตัวอย่าง',\n",
              " '  ตัวเรา',\n",
              " '  ตัวเล็ก',\n",
              " '  ตั้ง',\n",
              " '  ตั้งค่า',\n",
              " '  ตั้งแต่',\n",
              " '  ตาม',\n",
              " '  ตามที่',\n",
              " '  ตามปกติ',\n",
              " '  ตามหา',\n",
              " '  ตามเรื่อง',\n",
              " '  ติด',\n",
              " '  ติดตั้ง',\n",
              " '  ติดต่อ',\n",
              " '  ตืทำไม',\n",
              " '  ตู๊',\n",
              " '  ต่อ',\n",
              " '  ต่อสาย',\n",
              " '  ต่อให้',\n",
              " '  ต่างกัน',\n",
              " '  ต่างประเทศ',\n",
              " '  ต่างๆ',\n",
              " '  ต้ง',\n",
              " '  ต้อง',\n",
              " '  ต้องการ',\n",
              " '  ถาม',\n",
              " '  ถามหา',\n",
              " '  ถาวร',\n",
              " '  ถึง',\n",
              " '  ถือว่า',\n",
              " '  ถุก',\n",
              " '  ถูก',\n",
              " '  ถ้า',\n",
              " '  ถ้าหาก',\n",
              " '  ทรัพย์',\n",
              " '  ทราบ',\n",
              " '  ทรู',\n",
              " '  ทรูมูฟ',\n",
              " '  ทรูวิชั่น',\n",
              " '  ทวิสเตอร์',\n",
              " '  ทวี',\n",
              " '  ทอ',\n",
              " '  ทอง',\n",
              " '  ทอล์ค',\n",
              " '  ทันที',\n",
              " '  ทั้ง',\n",
              " '  ทั้งที่',\n",
              " '  ทั้งสอง',\n",
              " '  ทั้งหมด',\n",
              " '  ทั้งๆ',\n",
              " '  ทาง',\n",
              " '  ทำ',\n",
              " '  ทำตาม',\n",
              " '  ทำให้',\n",
              " '  ทำได้',\n",
              " '  ทำไปทำมา',\n",
              " '  ทำไม',\n",
              " '  ทิ้ง',\n",
              " '  ที',\n",
              " '  ทีนี้',\n",
              " '  ทีละ',\n",
              " '  ทีวี',\n",
              " '  ทีแรก',\n",
              " '  ที่',\n",
              " '  ที่จริง',\n",
              " '  ที่จะ',\n",
              " '  ที่นี่',\n",
              " '  ที่ผ่านมา',\n",
              " '  ที่มา',\n",
              " '  ที่ว่า',\n",
              " '  ที่อยู่',\n",
              " '  ที่แจ้ง',\n",
              " '  ที่แล้ว',\n",
              " '  ที่ไหน',\n",
              " '  ที่ไหนบ้าง',\n",
              " '  ที๋',\n",
              " '  ทึ่',\n",
              " '  ทุก',\n",
              " '  ทุกชนิด',\n",
              " '  ทุกอย่าง',\n",
              " '  ทุม',\n",
              " '  ทุ่ม',\n",
              " '  ทู',\n",
              " '  ท็อป',\n",
              " '  ท้องถิ่น',\n",
              " '  ท้อป',\n",
              " '  ท๊อป',\n",
              " '  ธ.',\n",
              " '  ธค.',\n",
              " '  ธรรมดา',\n",
              " '  น',\n",
              " '  นครสวรรค์',\n",
              " '  นอกจาก',\n",
              " '  นอกบ้าน',\n",
              " '  นอกเหนือ',\n",
              " '  นอน',\n",
              " '  นะ',\n",
              " '  นะคะ',\n",
              " '  นัด',\n",
              " '  นา',\n",
              " '  นาที',\n",
              " '  นาน',\n",
              " '  นามสกุล',\n",
              " '  นาฬิกา',\n",
              " '  นาโน',\n",
              " '  นิด',\n",
              " '  นิดนึง',\n",
              " '  นิดหนึ่ง',\n",
              " '  นิดเดียว',\n",
              " '  นิว',\n",
              " '  นิวส์',\n",
              " '  นี่',\n",
              " '  นี้',\n",
              " '  นึง',\n",
              " '  นู่',\n",
              " '  นู๋',\n",
              " '  น่ะ',\n",
              " '  น่าจะ',\n",
              " '  น่าจะเป็น',\n",
              " '  น้อง',\n",
              " '  น้อย',\n",
              " '  น๊า',\n",
              " '  บ.',\n",
              " '  บน',\n",
              " '  บริการ',\n",
              " '  บริการเสริม',\n",
              " '  บริษัท',\n",
              " '  บล็อก',\n",
              " '  บอ',\n",
              " '  บอก',\n",
              " '  บัญชี',\n",
              " '  บัตร',\n",
              " '  บัตรประชาชน',\n",
              " '  บัตรเครดิต',\n",
              " '  บัตรเติมเงิน',\n",
              " '  บัน',\n",
              " '  บา',\n",
              " '  บาง',\n",
              " '  บางครั้ง',\n",
              " '  บางที',\n",
              " '  บางนา',\n",
              " '  บางส่วน',\n",
              " '  บาท',\n",
              " '  บิล',\n",
              " '  บี',\n",
              " '  บุพ',\n",
              " '  บุฟเฟ่ต์',\n",
              " '  บู',\n",
              " '  บูส',\n",
              " '  บ้าง',\n",
              " '  บ้าน',\n",
              " '  ปกติ',\n",
              " '  ปทุม',\n",
              " '  ประมาณ',\n",
              " '  ประเทศ',\n",
              " '  ปรับ',\n",
              " '  ปรากฎ',\n",
              " '  ปรึกษา',\n",
              " '  ปลด',\n",
              " '  ปะ',\n",
              " '  ปัจ',\n",
              " '  ปัจจุบัน',\n",
              " '  ปัจจุบันนี้',\n",
              " '  ปัญหา',\n",
              " '  ปิด',\n",
              " '  ปี',\n",
              " '  ป่านนี้',\n",
              " '  ป้า',\n",
              " '  ป้าย',\n",
              " '  ผท',\n",
              " '  ผม',\n",
              " '  ผล',\n",
              " '  ผิด',\n",
              " '  ผิดนัด',\n",
              " '  ผู้',\n",
              " '  ผ่อน',\n",
              " '  ผ่าน',\n",
              " '  ฝั่ง',\n",
              " '  ฝาก',\n",
              " '  พ',\n",
              " '  พ.ค.',\n",
              " '  พค.',\n",
              " '  พด',\n",
              " '  พนักงาน',\n",
              " '  พบ',\n",
              " '  พระราม',\n",
              " '  พรุ่งนี้',\n",
              " '  พร้อม',\n",
              " '  พร้อมกัน',\n",
              " '  พร้อมกับ',\n",
              " '  พลัส',\n",
              " '  พวก',\n",
              " '  พอ',\n",
              " '  พอดี',\n",
              " '  พอได้',\n",
              " '  พัน',\n",
              " '  พารากอน',\n",
              " '  พาส',\n",
              " '  พาสเวิร์ด',\n",
              " '  พิน',\n",
              " '  พี',\n",
              " '  พีซี',\n",
              " '  พี่',\n",
              " '  พึ่ง',\n",
              " '  พุ',\n",
              " '  พุ๊ก',\n",
              " '  พู',\n",
              " '  พ่วง',\n",
              " '  ฟรี',\n",
              " '  ฟอ',\n",
              " '  ฟอร์แมต',\n",
              " '  ฟัง',\n",
              " '  ฟังเพลง',\n",
              " '  ฟุตบอล',\n",
              " '  ภายใน',\n",
              " '  ม.ค.',\n",
              " '  มกรา',\n",
              " '  มกราคม',\n",
              " '  มค.',\n",
              " '  มล',\n",
              " '  มะ',\n",
              " '  มัน',\n",
              " '  มั้ย',\n",
              " '  มั๊ย',\n",
              " '  มา',\n",
              " '  มาก',\n",
              " '  มากกว่า',\n",
              " '  มาจาก',\n",
              " ...]"
            ]
          },
          "metadata": {
            "tags": []
          },
          "execution_count": 46
        }
      ]
    },
    {
      "cell_type": "code",
      "metadata": {
        "id": "xv02N5a_24Wp",
        "colab_type": "code",
        "colab": {
          "base_uri": "https://localhost:8080/",
          "height": 440
        },
        "outputId": "d2cc5a54-ee99-4a26-d0b0-ff110037768d"
      },
      "source": [
        "bow = vectorizer.transform(data).toarray()\n",
        "df = pd.DataFrame(bow, columns= vectorizer.get_feature_names())\n",
        "df['text'] = data\n",
        "df"
      ],
      "execution_count": 47,
      "outputs": [
        {
          "output_type": "execute_result",
          "data": {
            "text/html": [
              "<div>\n",
              "<style scoped>\n",
              "    .dataframe tbody tr th:only-of-type {\n",
              "        vertical-align: middle;\n",
              "    }\n",
              "\n",
              "    .dataframe tbody tr th {\n",
              "        vertical-align: top;\n",
              "    }\n",
              "\n",
              "    .dataframe thead th {\n",
              "        text-align: right;\n",
              "    }\n",
              "</style>\n",
              "<table border=\"1\" class=\"dataframe\">\n",
              "  <thead>\n",
              "    <tr style=\"text-align: right;\">\n",
              "      <th></th>\n",
              "      <th>\\n</th>\n",
              "      <th>\\n</th>\n",
              "      <th>\\n true</th>\n",
              "      <th>\\n กับ</th>\n",
              "      <th>\\n กาแล็กซี่</th>\n",
              "      <th>\\n ขอ</th>\n",
              "      <th>\\n ของ</th>\n",
              "      <th>\\n ครับ</th>\n",
              "      <th>\\n คือ</th>\n",
              "      <th>\\n คุย</th>\n",
              "      <th>\\n ค่า</th>\n",
              "      <th>\\n ค่าใช้จ่าย</th>\n",
              "      <th>\\n จะ</th>\n",
              "      <th>\\n จี</th>\n",
              "      <th>\\n ชำระ</th>\n",
              "      <th>\\n ดังกล่าว</th>\n",
              "      <th>\\n ดึง</th>\n",
              "      <th>\\n ตอนนี้</th>\n",
              "      <th>\\n ติด</th>\n",
              "      <th>\\n ต้อง</th>\n",
              "      <th>\\n ต้องการ</th>\n",
              "      <th>\\n ถูก</th>\n",
              "      <th>\\n ถ้า</th>\n",
              "      <th>\\n ทรู</th>\n",
              "      <th>\\n ทรูมูฟ</th>\n",
              "      <th>\\n ทั้งที่</th>\n",
              "      <th>\\n ทั้งสิ้น</th>\n",
              "      <th>\\n ทีนี้</th>\n",
              "      <th>\\n ที่</th>\n",
              "      <th>\\n บอ</th>\n",
              "      <th>\\n ผม</th>\n",
              "      <th>\\n พน</th>\n",
              "      <th>\\n มัน</th>\n",
              "      <th>\\n มีปัญหา</th>\n",
              "      <th>\\n ยัง</th>\n",
              "      <th>\\n ยังอยู่</th>\n",
              "      <th>\\n ยืนยัน</th>\n",
              "      <th>\\n ยู</th>\n",
              "      <th>\\n ย้าย</th>\n",
              "      <th>\\n รบกวน</th>\n",
              "      <th>...</th>\n",
              "      <th>่ง หนึ่ง</th>\n",
              "      <th>้</th>\n",
              "      <th>้ แล้ว</th>\n",
              "      <th>์</th>\n",
              "      <th>์</th>\n",
              "      <th>์ ของ</th>\n",
              "      <th>์ ตัว</th>\n",
              "      <th>์ ตั้งแต่</th>\n",
              "      <th>์ ที่</th>\n",
              "      <th>์ มัน</th>\n",
              "      <th>์ มา</th>\n",
              "      <th>์ หรือ</th>\n",
              "      <th>์ เซ</th>\n",
              "      <th>์ เซอร์</th>\n",
              "      <th>์ เซอร์วิส</th>\n",
              "      <th>์ เต</th>\n",
              "      <th>์ เน็ต</th>\n",
              "      <th>์ แคร์</th>\n",
              "      <th>์ โบนัส</th>\n",
              "      <th>์ โลตัส</th>\n",
              "      <th>์ ได้</th>\n",
              "      <th>์ ไป</th>\n",
              "      <th>์ร</th>\n",
              "      <th>์ร ทรู</th>\n",
              "      <th>์ล</th>\n",
              "      <th>์ล โหลด</th>\n",
              "      <th>์เนต</th>\n",
              "      <th>์เนต ได้</th>\n",
              "      <th>์เนตผม</th>\n",
              "      <th>์เนตผม ใช้ไม่ได้</th>\n",
              "      <th>“</th>\n",
              "      <th>“ โปร</th>\n",
              "      <th>”</th>\n",
              "      <th>”</th>\n",
              "      <th>…</th>\n",
              "      <th>….</th>\n",
              "      <th>….</th>\n",
              "      <th>…..</th>\n",
              "      <th>….. ค่ะ</th>\n",
              "      <th>text</th>\n",
              "    </tr>\n",
              "  </thead>\n",
              "  <tbody>\n",
              "    <tr>\n",
              "      <th>0</th>\n",
              "      <td>0</td>\n",
              "      <td>0</td>\n",
              "      <td>0</td>\n",
              "      <td>0</td>\n",
              "      <td>0</td>\n",
              "      <td>0</td>\n",
              "      <td>0</td>\n",
              "      <td>0</td>\n",
              "      <td>0</td>\n",
              "      <td>0</td>\n",
              "      <td>0</td>\n",
              "      <td>0</td>\n",
              "      <td>0</td>\n",
              "      <td>0</td>\n",
              "      <td>0</td>\n",
              "      <td>0</td>\n",
              "      <td>0</td>\n",
              "      <td>0</td>\n",
              "      <td>0</td>\n",
              "      <td>0</td>\n",
              "      <td>0</td>\n",
              "      <td>0</td>\n",
              "      <td>0</td>\n",
              "      <td>0</td>\n",
              "      <td>0</td>\n",
              "      <td>0</td>\n",
              "      <td>0</td>\n",
              "      <td>0</td>\n",
              "      <td>0</td>\n",
              "      <td>0</td>\n",
              "      <td>0</td>\n",
              "      <td>0</td>\n",
              "      <td>0</td>\n",
              "      <td>0</td>\n",
              "      <td>0</td>\n",
              "      <td>0</td>\n",
              "      <td>0</td>\n",
              "      <td>0</td>\n",
              "      <td>0</td>\n",
              "      <td>0</td>\n",
              "      <td>...</td>\n",
              "      <td>0</td>\n",
              "      <td>0</td>\n",
              "      <td>0</td>\n",
              "      <td>0</td>\n",
              "      <td>0</td>\n",
              "      <td>0</td>\n",
              "      <td>0</td>\n",
              "      <td>0</td>\n",
              "      <td>0</td>\n",
              "      <td>0</td>\n",
              "      <td>0</td>\n",
              "      <td>0</td>\n",
              "      <td>0</td>\n",
              "      <td>0</td>\n",
              "      <td>0</td>\n",
              "      <td>0</td>\n",
              "      <td>0</td>\n",
              "      <td>0</td>\n",
              "      <td>0</td>\n",
              "      <td>0</td>\n",
              "      <td>0</td>\n",
              "      <td>0</td>\n",
              "      <td>0</td>\n",
              "      <td>0</td>\n",
              "      <td>0</td>\n",
              "      <td>0</td>\n",
              "      <td>0</td>\n",
              "      <td>0</td>\n",
              "      <td>0</td>\n",
              "      <td>0</td>\n",
              "      <td>0</td>\n",
              "      <td>0</td>\n",
              "      <td>0</td>\n",
              "      <td>0</td>\n",
              "      <td>0</td>\n",
              "      <td>0</td>\n",
              "      <td>0</td>\n",
              "      <td>0</td>\n",
              "      <td>0</td>\n",
              "      <td>ฉันไปโรงเรียน</td>\n",
              "    </tr>\n",
              "    <tr>\n",
              "      <th>1</th>\n",
              "      <td>0</td>\n",
              "      <td>0</td>\n",
              "      <td>0</td>\n",
              "      <td>0</td>\n",
              "      <td>0</td>\n",
              "      <td>0</td>\n",
              "      <td>0</td>\n",
              "      <td>0</td>\n",
              "      <td>0</td>\n",
              "      <td>0</td>\n",
              "      <td>0</td>\n",
              "      <td>0</td>\n",
              "      <td>0</td>\n",
              "      <td>0</td>\n",
              "      <td>0</td>\n",
              "      <td>0</td>\n",
              "      <td>0</td>\n",
              "      <td>0</td>\n",
              "      <td>0</td>\n",
              "      <td>0</td>\n",
              "      <td>0</td>\n",
              "      <td>0</td>\n",
              "      <td>0</td>\n",
              "      <td>0</td>\n",
              "      <td>0</td>\n",
              "      <td>0</td>\n",
              "      <td>0</td>\n",
              "      <td>0</td>\n",
              "      <td>0</td>\n",
              "      <td>0</td>\n",
              "      <td>0</td>\n",
              "      <td>0</td>\n",
              "      <td>0</td>\n",
              "      <td>0</td>\n",
              "      <td>0</td>\n",
              "      <td>0</td>\n",
              "      <td>0</td>\n",
              "      <td>0</td>\n",
              "      <td>0</td>\n",
              "      <td>0</td>\n",
              "      <td>...</td>\n",
              "      <td>0</td>\n",
              "      <td>0</td>\n",
              "      <td>0</td>\n",
              "      <td>0</td>\n",
              "      <td>0</td>\n",
              "      <td>0</td>\n",
              "      <td>0</td>\n",
              "      <td>0</td>\n",
              "      <td>0</td>\n",
              "      <td>0</td>\n",
              "      <td>0</td>\n",
              "      <td>0</td>\n",
              "      <td>0</td>\n",
              "      <td>0</td>\n",
              "      <td>0</td>\n",
              "      <td>0</td>\n",
              "      <td>0</td>\n",
              "      <td>0</td>\n",
              "      <td>0</td>\n",
              "      <td>0</td>\n",
              "      <td>0</td>\n",
              "      <td>0</td>\n",
              "      <td>0</td>\n",
              "      <td>0</td>\n",
              "      <td>0</td>\n",
              "      <td>0</td>\n",
              "      <td>0</td>\n",
              "      <td>0</td>\n",
              "      <td>0</td>\n",
              "      <td>0</td>\n",
              "      <td>0</td>\n",
              "      <td>0</td>\n",
              "      <td>0</td>\n",
              "      <td>0</td>\n",
              "      <td>0</td>\n",
              "      <td>0</td>\n",
              "      <td>0</td>\n",
              "      <td>0</td>\n",
              "      <td>0</td>\n",
              "      <td>โรงเรียนของเราน่าอยู่</td>\n",
              "    </tr>\n",
              "    <tr>\n",
              "      <th>2</th>\n",
              "      <td>0</td>\n",
              "      <td>0</td>\n",
              "      <td>0</td>\n",
              "      <td>0</td>\n",
              "      <td>0</td>\n",
              "      <td>0</td>\n",
              "      <td>0</td>\n",
              "      <td>0</td>\n",
              "      <td>0</td>\n",
              "      <td>0</td>\n",
              "      <td>0</td>\n",
              "      <td>0</td>\n",
              "      <td>0</td>\n",
              "      <td>0</td>\n",
              "      <td>0</td>\n",
              "      <td>0</td>\n",
              "      <td>0</td>\n",
              "      <td>0</td>\n",
              "      <td>0</td>\n",
              "      <td>0</td>\n",
              "      <td>0</td>\n",
              "      <td>0</td>\n",
              "      <td>0</td>\n",
              "      <td>0</td>\n",
              "      <td>0</td>\n",
              "      <td>0</td>\n",
              "      <td>0</td>\n",
              "      <td>0</td>\n",
              "      <td>0</td>\n",
              "      <td>0</td>\n",
              "      <td>0</td>\n",
              "      <td>0</td>\n",
              "      <td>0</td>\n",
              "      <td>0</td>\n",
              "      <td>0</td>\n",
              "      <td>0</td>\n",
              "      <td>0</td>\n",
              "      <td>0</td>\n",
              "      <td>0</td>\n",
              "      <td>0</td>\n",
              "      <td>...</td>\n",
              "      <td>0</td>\n",
              "      <td>0</td>\n",
              "      <td>0</td>\n",
              "      <td>0</td>\n",
              "      <td>0</td>\n",
              "      <td>0</td>\n",
              "      <td>0</td>\n",
              "      <td>0</td>\n",
              "      <td>0</td>\n",
              "      <td>0</td>\n",
              "      <td>0</td>\n",
              "      <td>0</td>\n",
              "      <td>0</td>\n",
              "      <td>0</td>\n",
              "      <td>0</td>\n",
              "      <td>0</td>\n",
              "      <td>0</td>\n",
              "      <td>0</td>\n",
              "      <td>0</td>\n",
              "      <td>0</td>\n",
              "      <td>0</td>\n",
              "      <td>0</td>\n",
              "      <td>0</td>\n",
              "      <td>0</td>\n",
              "      <td>0</td>\n",
              "      <td>0</td>\n",
              "      <td>0</td>\n",
              "      <td>0</td>\n",
              "      <td>0</td>\n",
              "      <td>0</td>\n",
              "      <td>0</td>\n",
              "      <td>0</td>\n",
              "      <td>0</td>\n",
              "      <td>0</td>\n",
              "      <td>0</td>\n",
              "      <td>0</td>\n",
              "      <td>0</td>\n",
              "      <td>0</td>\n",
              "      <td>0</td>\n",
              "      <td>คุณครูใจดีทุกคน</td>\n",
              "    </tr>\n",
              "    <tr>\n",
              "      <th>3</th>\n",
              "      <td>0</td>\n",
              "      <td>0</td>\n",
              "      <td>0</td>\n",
              "      <td>0</td>\n",
              "      <td>0</td>\n",
              "      <td>0</td>\n",
              "      <td>0</td>\n",
              "      <td>0</td>\n",
              "      <td>0</td>\n",
              "      <td>0</td>\n",
              "      <td>0</td>\n",
              "      <td>0</td>\n",
              "      <td>0</td>\n",
              "      <td>0</td>\n",
              "      <td>0</td>\n",
              "      <td>0</td>\n",
              "      <td>0</td>\n",
              "      <td>0</td>\n",
              "      <td>0</td>\n",
              "      <td>0</td>\n",
              "      <td>0</td>\n",
              "      <td>0</td>\n",
              "      <td>0</td>\n",
              "      <td>0</td>\n",
              "      <td>0</td>\n",
              "      <td>0</td>\n",
              "      <td>0</td>\n",
              "      <td>0</td>\n",
              "      <td>0</td>\n",
              "      <td>0</td>\n",
              "      <td>0</td>\n",
              "      <td>0</td>\n",
              "      <td>0</td>\n",
              "      <td>0</td>\n",
              "      <td>0</td>\n",
              "      <td>0</td>\n",
              "      <td>0</td>\n",
              "      <td>0</td>\n",
              "      <td>0</td>\n",
              "      <td>0</td>\n",
              "      <td>...</td>\n",
              "      <td>0</td>\n",
              "      <td>0</td>\n",
              "      <td>0</td>\n",
              "      <td>0</td>\n",
              "      <td>0</td>\n",
              "      <td>0</td>\n",
              "      <td>0</td>\n",
              "      <td>0</td>\n",
              "      <td>0</td>\n",
              "      <td>0</td>\n",
              "      <td>0</td>\n",
              "      <td>0</td>\n",
              "      <td>0</td>\n",
              "      <td>0</td>\n",
              "      <td>0</td>\n",
              "      <td>0</td>\n",
              "      <td>0</td>\n",
              "      <td>0</td>\n",
              "      <td>0</td>\n",
              "      <td>0</td>\n",
              "      <td>0</td>\n",
              "      <td>0</td>\n",
              "      <td>0</td>\n",
              "      <td>0</td>\n",
              "      <td>0</td>\n",
              "      <td>0</td>\n",
              "      <td>0</td>\n",
              "      <td>0</td>\n",
              "      <td>0</td>\n",
              "      <td>0</td>\n",
              "      <td>0</td>\n",
              "      <td>0</td>\n",
              "      <td>0</td>\n",
              "      <td>0</td>\n",
              "      <td>0</td>\n",
              "      <td>0</td>\n",
              "      <td>0</td>\n",
              "      <td>0</td>\n",
              "      <td>0</td>\n",
              "      <td>ฉันกินปลา</td>\n",
              "    </tr>\n",
              "    <tr>\n",
              "      <th>4</th>\n",
              "      <td>0</td>\n",
              "      <td>0</td>\n",
              "      <td>0</td>\n",
              "      <td>0</td>\n",
              "      <td>0</td>\n",
              "      <td>0</td>\n",
              "      <td>0</td>\n",
              "      <td>0</td>\n",
              "      <td>0</td>\n",
              "      <td>0</td>\n",
              "      <td>0</td>\n",
              "      <td>0</td>\n",
              "      <td>0</td>\n",
              "      <td>0</td>\n",
              "      <td>0</td>\n",
              "      <td>0</td>\n",
              "      <td>0</td>\n",
              "      <td>0</td>\n",
              "      <td>0</td>\n",
              "      <td>0</td>\n",
              "      <td>0</td>\n",
              "      <td>0</td>\n",
              "      <td>0</td>\n",
              "      <td>0</td>\n",
              "      <td>0</td>\n",
              "      <td>0</td>\n",
              "      <td>0</td>\n",
              "      <td>0</td>\n",
              "      <td>0</td>\n",
              "      <td>0</td>\n",
              "      <td>0</td>\n",
              "      <td>0</td>\n",
              "      <td>0</td>\n",
              "      <td>0</td>\n",
              "      <td>0</td>\n",
              "      <td>0</td>\n",
              "      <td>0</td>\n",
              "      <td>0</td>\n",
              "      <td>0</td>\n",
              "      <td>0</td>\n",
              "      <td>...</td>\n",
              "      <td>0</td>\n",
              "      <td>0</td>\n",
              "      <td>0</td>\n",
              "      <td>0</td>\n",
              "      <td>0</td>\n",
              "      <td>0</td>\n",
              "      <td>0</td>\n",
              "      <td>0</td>\n",
              "      <td>0</td>\n",
              "      <td>0</td>\n",
              "      <td>0</td>\n",
              "      <td>0</td>\n",
              "      <td>0</td>\n",
              "      <td>0</td>\n",
              "      <td>0</td>\n",
              "      <td>0</td>\n",
              "      <td>0</td>\n",
              "      <td>0</td>\n",
              "      <td>0</td>\n",
              "      <td>0</td>\n",
              "      <td>0</td>\n",
              "      <td>0</td>\n",
              "      <td>0</td>\n",
              "      <td>0</td>\n",
              "      <td>0</td>\n",
              "      <td>0</td>\n",
              "      <td>0</td>\n",
              "      <td>0</td>\n",
              "      <td>0</td>\n",
              "      <td>0</td>\n",
              "      <td>0</td>\n",
              "      <td>0</td>\n",
              "      <td>0</td>\n",
              "      <td>0</td>\n",
              "      <td>0</td>\n",
              "      <td>0</td>\n",
              "      <td>0</td>\n",
              "      <td>0</td>\n",
              "      <td>0</td>\n",
              "      <td>ปลากินฉัน</td>\n",
              "    </tr>\n",
              "  </tbody>\n",
              "</table>\n",
              "<p>5 rows × 32542 columns</p>\n",
              "</div>"
            ],
            "text/plain": [
              "   \\n  \\n    \\n true  \\n กับ  ...  ….    …..  ….. ค่ะ                   text\n",
              "0   0     0        0       0  ...     0    0        0          ฉันไปโรงเรียน\n",
              "1   0     0        0       0  ...     0    0        0  โรงเรียนของเราน่าอยู่\n",
              "2   0     0        0       0  ...     0    0        0        คุณครูใจดีทุกคน\n",
              "3   0     0        0       0  ...     0    0        0              ฉันกินปลา\n",
              "4   0     0        0       0  ...     0    0        0              ปลากินฉัน\n",
              "\n",
              "[5 rows x 32542 columns]"
            ]
          },
          "metadata": {
            "tags": []
          },
          "execution_count": 47
        }
      ]
    },
    {
      "cell_type": "code",
      "metadata": {
        "id": "eXjP4jJGnG3u",
        "colab_type": "code",
        "colab": {
          "base_uri": "https://localhost:8080/",
          "height": 459
        },
        "outputId": "7a017eba-d7c0-4fc5-c99a-c611bc8a207e"
      },
      "source": [
        "vectorizer = CountVectorizer(tokenizer=get_th_tokens, ngram_range=(1,2))\n",
        "vectorizer.fit(data)\n",
        "vectorizer.get_feature_names()"
      ],
      "execution_count": 48,
      "outputs": [
        {
          "output_type": "stream",
          "text": [
            "/usr/local/lib/python3.6/dist-packages/sklearn/feature_extraction/text.py:507: UserWarning: The parameter 'token_pattern' will not be used since 'tokenizer' is not None'\n",
            "  warnings.warn(\"The parameter 'token_pattern' will not be used\"\n"
          ],
          "name": "stderr"
        },
        {
          "output_type": "execute_result",
          "data": {
            "text/plain": [
              "['กิน',\n",
              " 'กิน ฉัน',\n",
              " 'กิน ปลา',\n",
              " 'ของ',\n",
              " 'ของ เรา',\n",
              " 'คุณครู',\n",
              " 'คุณครู ใจดี',\n",
              " 'ฉัน',\n",
              " 'ฉัน กิน',\n",
              " 'ฉัน ไป',\n",
              " 'ทุกคน',\n",
              " 'น่าอยู่',\n",
              " 'ปลา',\n",
              " 'ปลา กิน',\n",
              " 'เรา',\n",
              " 'เรา น่าอยู่',\n",
              " 'โรงเรียน',\n",
              " 'โรงเรียน ของ',\n",
              " 'ใจดี',\n",
              " 'ใจดี ทุกคน',\n",
              " 'ไป',\n",
              " 'ไป โรงเรียน']"
            ]
          },
          "metadata": {
            "tags": []
          },
          "execution_count": 48
        }
      ]
    },
    {
      "cell_type": "markdown",
      "metadata": {
        "id": "JBuTOq_h3aNN",
        "colab_type": "text"
      },
      "source": [
        "#### Extract BOW feature"
      ]
    },
    {
      "cell_type": "code",
      "metadata": {
        "id": "CW9TGVzI3XYJ",
        "colab_type": "code",
        "colab": {}
      },
      "source": [
        "train_data = train_df['texts']\n",
        "test_data = test_df['texts']\n",
        "\n",
        "train_label = train_df['destination']\n",
        "test_label = test_df['destination']"
      ],
      "execution_count": 49,
      "outputs": []
    },
    {
      "cell_type": "code",
      "metadata": {
        "id": "7jOSDgiF3eQB",
        "colab_type": "code",
        "colab": {
          "base_uri": "https://localhost:8080/",
          "height": 195
        },
        "outputId": "d2e92e65-9ff0-4377-fe12-1ec3b0326337"
      },
      "source": [
        "# Train vectorizer\n",
        "vectorizer = CountVectorizer(tokenizer=get_th_tokens, ngram_range=(1,2))\n",
        "vectorizer.fit(train_data)"
      ],
      "execution_count": 27,
      "outputs": [
        {
          "output_type": "stream",
          "text": [
            "/usr/local/lib/python3.6/dist-packages/sklearn/feature_extraction/text.py:507: UserWarning: The parameter 'token_pattern' will not be used since 'tokenizer' is not None'\n",
            "  warnings.warn(\"The parameter 'token_pattern' will not be used\"\n"
          ],
          "name": "stderr"
        },
        {
          "output_type": "execute_result",
          "data": {
            "text/plain": [
              "CountVectorizer(analyzer='word', binary=False, decode_error='strict',\n",
              "                dtype=<class 'numpy.int64'>, encoding='utf-8', input='content',\n",
              "                lowercase=True, max_df=1.0, max_features=None, min_df=1,\n",
              "                ngram_range=(1, 2), preprocessor=None, stop_words=None,\n",
              "                strip_accents=None, token_pattern='(?u)\\\\b\\\\w\\\\w+\\\\b',\n",
              "                tokenizer=<function get_th_tokens at 0x7f31950880d0>,\n",
              "                vocabulary=None)"
            ]
          },
          "metadata": {
            "tags": []
          },
          "execution_count": 27
        }
      ]
    },
    {
      "cell_type": "code",
      "metadata": {
        "id": "xSh9kGbinVdQ",
        "colab_type": "code",
        "colab": {}
      },
      "source": [
        "# Create BOW feature\n",
        "train_feat = vectorizer.transform(train_data)\n",
        "test_feat = vectorizer.transform(test_data)"
      ],
      "execution_count": 28,
      "outputs": []
    },
    {
      "cell_type": "code",
      "metadata": {
        "id": "aaoJXlodniLf",
        "colab_type": "code",
        "colab": {
          "base_uri": "https://localhost:8080/",
          "height": 52
        },
        "outputId": "91c90933-3a25-477d-eaaf-15f5adda6bf1"
      },
      "source": [
        "train_feat"
      ],
      "execution_count": 29,
      "outputs": [
        {
          "output_type": "execute_result",
          "data": {
            "text/plain": [
              "<12939x32541 sparse matrix of type '<class 'numpy.int64'>'\n",
              "\twith 322848 stored elements in Compressed Sparse Row format>"
            ]
          },
          "metadata": {
            "tags": []
          },
          "execution_count": 29
        }
      ]
    },
    {
      "cell_type": "code",
      "metadata": {
        "id": "CYa16ty7nr42",
        "colab_type": "code",
        "colab": {
          "base_uri": "https://localhost:8080/",
          "height": 140
        },
        "outputId": "bf7e0688-813e-4799-bc6b-f601991deff1"
      },
      "source": [
        "train_feat.toarray()"
      ],
      "execution_count": 30,
      "outputs": [
        {
          "output_type": "execute_result",
          "data": {
            "text/plain": [
              "array([[0, 0, 0, ..., 0, 0, 0],\n",
              "       [0, 0, 0, ..., 0, 0, 0],\n",
              "       [0, 0, 0, ..., 0, 0, 0],\n",
              "       ...,\n",
              "       [0, 0, 0, ..., 0, 0, 0],\n",
              "       [0, 0, 0, ..., 0, 0, 0],\n",
              "       [0, 0, 0, ..., 0, 0, 0]])"
            ]
          },
          "metadata": {
            "tags": []
          },
          "execution_count": 30
        }
      ]
    },
    {
      "cell_type": "markdown",
      "metadata": {
        "id": "_YTUqg6v4T3u",
        "colab_type": "text"
      },
      "source": [
        "# Train model"
      ]
    },
    {
      "cell_type": "code",
      "metadata": {
        "id": "DOqZ1bJ23oJD",
        "colab_type": "code",
        "colab": {}
      },
      "source": [
        "from sklearn.svm import LinearSVC\n",
        "from sklearn.preprocessing import normalize"
      ],
      "execution_count": 31,
      "outputs": []
    },
    {
      "cell_type": "code",
      "metadata": {
        "id": "D44hFDUl5htP",
        "colab_type": "code",
        "colab": {}
      },
      "source": [
        "# L2 Normalization\n",
        "train_feat_norm = normalize(train_feat)\n",
        "test_feat_norm = normalize(test_feat)"
      ],
      "execution_count": 32,
      "outputs": []
    },
    {
      "cell_type": "code",
      "metadata": {
        "id": "cB5XG4lT5jfq",
        "colab_type": "code",
        "colab": {}
      },
      "source": [
        "model = LinearSVC(random_state=0)"
      ],
      "execution_count": 33,
      "outputs": []
    },
    {
      "cell_type": "code",
      "metadata": {
        "id": "GDgCdNCk5lms",
        "colab_type": "code",
        "colab": {
          "base_uri": "https://localhost:8080/",
          "height": 87
        },
        "outputId": "bdfda743-812c-4f0e-c608-5a559fab139f"
      },
      "source": [
        "model.fit(train_feat_norm, train_label)"
      ],
      "execution_count": 34,
      "outputs": [
        {
          "output_type": "execute_result",
          "data": {
            "text/plain": [
              "LinearSVC(C=1.0, class_weight=None, dual=True, fit_intercept=True,\n",
              "          intercept_scaling=1, loss='squared_hinge', max_iter=1000,\n",
              "          multi_class='ovr', penalty='l2', random_state=0, tol=0.0001,\n",
              "          verbose=0)"
            ]
          },
          "metadata": {
            "tags": []
          },
          "execution_count": 34
        }
      ]
    },
    {
      "cell_type": "markdown",
      "metadata": {
        "id": "p1aY0BW254nW",
        "colab_type": "text"
      },
      "source": [
        "# Evaluation"
      ]
    },
    {
      "cell_type": "code",
      "metadata": {
        "id": "Ql9i6FLJ5naY",
        "colab_type": "code",
        "colab": {}
      },
      "source": [
        "from sklearn.metrics import classification_report, accuracy_score"
      ],
      "execution_count": 35,
      "outputs": []
    },
    {
      "cell_type": "code",
      "metadata": {
        "id": "rMH_anxH58BF",
        "colab_type": "code",
        "colab": {}
      },
      "source": [
        "pred = model.predict(test_feat_norm)"
      ],
      "execution_count": 36,
      "outputs": []
    },
    {
      "cell_type": "code",
      "metadata": {
        "id": "4X20NQ7b5_AK",
        "colab_type": "code",
        "colab": {
          "base_uri": "https://localhost:8080/",
          "height": 263
        },
        "outputId": "bafcf086-81fc-4068-89fb-23d6d8cceea4"
      },
      "source": [
        "print(classification_report(test_label, pred, digits=3))"
      ],
      "execution_count": 37,
      "outputs": [
        {
          "output_type": "stream",
          "text": [
            "                       precision    recall  f1-score   support\n",
            "\n",
            "  billing and payment      0.816     0.913     0.862       977\n",
            "international dialing      0.925     0.906     0.915       203\n",
            "             internet      0.857     0.907     0.882       615\n",
            "      lost and stolen      1.000     0.934     0.966       196\n",
            "        other queries      0.834     0.658     0.735       549\n",
            "           promotions      0.926     0.897     0.911       590\n",
            "           true money      0.972     0.972     0.972       106\n",
            "\n",
            "             accuracy                          0.868      3236\n",
            "            macro avg      0.904     0.884     0.892      3236\n",
            "         weighted avg      0.870     0.868     0.866      3236\n",
            "\n"
          ],
          "name": "stdout"
        }
      ]
    },
    {
      "cell_type": "code",
      "metadata": {
        "id": "YbThZbNq6AsS",
        "colab_type": "code",
        "colab": {
          "base_uri": "https://localhost:8080/",
          "height": 34
        },
        "outputId": "0ce3dbc2-6125-48a6-fb80-5664d8d734c6"
      },
      "source": [
        "accuracy_score(test_label, pred)"
      ],
      "execution_count": 38,
      "outputs": [
        {
          "output_type": "execute_result",
          "data": {
            "text/plain": [
              "0.8683559950556242"
            ]
          },
          "metadata": {
            "tags": []
          },
          "execution_count": 38
        }
      ]
    },
    {
      "cell_type": "code",
      "metadata": {
        "id": "kzwxdEf-6GAL",
        "colab_type": "code",
        "colab": {}
      },
      "source": [
        "def pipline():\n",
        "  # Load data\n",
        "  train_df = pd.read_csv('mari_train.csv')\n",
        "  test_df = pd.read_csv('mari_test.csv')\n",
        "\n",
        "  # Split data\n",
        "  train_data = train_df['texts']\n",
        "  test_data = test_df['texts']\n",
        "\n",
        "  train_label = train_df['destination']\n",
        "  test_label = test_df['destination']\n",
        "\n",
        "  # Extract feature\n",
        "  ## Train vectorizer\n",
        "  vectorizer = CountVectorizer(tokenizer=get_th_tokens, ngram_range=(1,2))\n",
        "  vectorizer.fit(train_data)\n",
        "\n",
        "  ## Create BOW feature\n",
        "  train_feat = vectorizer.transform(train_data)\n",
        "  test_feat = vectorizer.transform(test_data)\n",
        "\n",
        "  ## Normalization\n",
        "  train_feat_norm = normalize(train_feat)\n",
        "  test_feat_norm = normalize(test_feat)\n",
        "\n",
        "  # Train model\n",
        "  model = LinearSVC(random_state=0)\n",
        "  model.fit(train_feat_norm, train_label)\n",
        "\n",
        "  # Prediction\n",
        "  pred = model.predict(test_feat_norm)\n",
        "\n",
        "  # Evaluation\n",
        "  acc = accuracy_score(test_label, pred)\n",
        "\n",
        "  return acc\n",
        "\n"
      ],
      "execution_count": 39,
      "outputs": []
    },
    {
      "cell_type": "code",
      "metadata": {
        "id": "tNBvWOG06JIF",
        "colab_type": "code",
        "colab": {
          "base_uri": "https://localhost:8080/",
          "height": 90
        },
        "outputId": "8f6e54b7-6326-40ee-80d3-fc5383bd69fe"
      },
      "source": [
        "pipline()"
      ],
      "execution_count": 40,
      "outputs": [
        {
          "output_type": "stream",
          "text": [
            "/usr/local/lib/python3.6/dist-packages/sklearn/feature_extraction/text.py:507: UserWarning: The parameter 'token_pattern' will not be used since 'tokenizer' is not None'\n",
            "  warnings.warn(\"The parameter 'token_pattern' will not be used\"\n"
          ],
          "name": "stderr"
        },
        {
          "output_type": "execute_result",
          "data": {
            "text/plain": [
              "0.8683559950556242"
            ]
          },
          "metadata": {
            "tags": []
          },
          "execution_count": 40
        }
      ]
    },
    {
      "cell_type": "code",
      "metadata": {
        "id": "clroJVGht1Mk",
        "colab_type": "code",
        "colab": {}
      },
      "source": [
        "from sklearn.feature_extraction.text import TfidfVectorizer"
      ],
      "execution_count": 41,
      "outputs": []
    },
    {
      "cell_type": "code",
      "metadata": {
        "id": "rcDZDzl6yF9_",
        "colab_type": "code",
        "colab": {
          "base_uri": "https://localhost:8080/",
          "height": 90
        },
        "outputId": "4fbc6d6a-cdb9-4d0a-f16a-0381aae71cfc"
      },
      "source": [
        "def pipline2():\n",
        "  # Load data\n",
        "  train_df = pd.read_csv('mari_train.csv')\n",
        "  test_df = pd.read_csv('mari_test.csv')\n",
        "\n",
        "  # Split data\n",
        "  train_data = train_df['texts']\n",
        "  test_data = test_df['texts']\n",
        "\n",
        "  train_label = train_df['destination']\n",
        "  test_label = test_df['destination']\n",
        "\n",
        "  # Extract feature\n",
        "  ## Train vectorizer\n",
        "  vectorizer = TfidfVectorizer(tokenizer=get_th_tokens, ngram_range=(1,2))\n",
        "  vectorizer.fit(train_data)\n",
        "\n",
        "  ## Create BOW feature\n",
        "  train_feat = vectorizer.transform(train_data)\n",
        "  test_feat = vectorizer.transform(test_data)\n",
        "\n",
        "  ## Normalization\n",
        "  train_feat_norm = normalize(train_feat)\n",
        "  test_feat_norm = normalize(test_feat)\n",
        "\n",
        "  # Train model\n",
        "  model = LinearSVC(random_state=0)\n",
        "  model.fit(train_feat_norm, train_label)\n",
        "\n",
        "  # Prediction\n",
        "  pred = model.predict(test_feat_norm)\n",
        "\n",
        "  # Evaluation\n",
        "  acc = accuracy_score(test_label, pred)\n",
        "\n",
        "  return acc\n",
        "\n",
        "pipline2()"
      ],
      "execution_count": 42,
      "outputs": [
        {
          "output_type": "stream",
          "text": [
            "/usr/local/lib/python3.6/dist-packages/sklearn/feature_extraction/text.py:507: UserWarning: The parameter 'token_pattern' will not be used since 'tokenizer' is not None'\n",
            "  warnings.warn(\"The parameter 'token_pattern' will not be used\"\n"
          ],
          "name": "stderr"
        },
        {
          "output_type": "execute_result",
          "data": {
            "text/plain": [
              "0.8624845488257108"
            ]
          },
          "metadata": {
            "tags": []
          },
          "execution_count": 42
        }
      ]
    },
    {
      "cell_type": "code",
      "metadata": {
        "id": "HZQpz5fTyMwy",
        "colab_type": "code",
        "colab": {
          "base_uri": "https://localhost:8080/",
          "height": 122
        },
        "outputId": "9b8f073e-2278-4f1f-e90c-a1eaf3aa6efb"
      },
      "source": [
        "train_data.head()"
      ],
      "execution_count": 43,
      "outputs": [
        {
          "output_type": "execute_result",
          "data": {
            "text/plain": [
              "0     ผมไปจ่ายเงินที่ Counter Services เค้าเช็ต . บ...\n",
              "1                 internet ยังความเร็วอยุ่เท่าไหร ครับ\n",
              "2     ตะกี้ไปชำระค่าบริการไปแล้ว แต่ยังใช้งานไม่ได้...\n",
              "3     พี่ค่ะยังใช้ internet ไม่ได้เลยค่ะ เป็นเครื่อ...\n",
              "4     ฮาโหล คะ พอดีว่าเมื่อวานเปิดซิมทรูมูฟ แต่มันโ...\n",
              "Name: texts, dtype: object"
            ]
          },
          "metadata": {
            "tags": []
          },
          "execution_count": 43
        }
      ]
    },
    {
      "cell_type": "code",
      "metadata": {
        "id": "8vYJf5m7yZ6Z",
        "colab_type": "code",
        "colab": {}
      },
      "source": [
        "len_text = train_data.apply(len)"
      ],
      "execution_count": 44,
      "outputs": []
    },
    {
      "cell_type": "code",
      "metadata": {
        "id": "QNNgOBH6yh7X",
        "colab_type": "code",
        "colab": {
          "base_uri": "https://localhost:8080/",
          "height": 282
        },
        "outputId": "e9f9062c-bec3-4881-8fb0-47b81f9d3a39"
      },
      "source": [
        "len_text.hist(bins=50)"
      ],
      "execution_count": 45,
      "outputs": [
        {
          "output_type": "execute_result",
          "data": {
            "text/plain": [
              "<matplotlib.axes._subplots.AxesSubplot at 0x7f3194a51a20>"
            ]
          },
          "metadata": {
            "tags": []
          },
          "execution_count": 45
        },
        {
          "output_type": "display_data",
          "data": {
            "image/png": "[encoded data removed]",
            "text/plain": [
              "<Figure size 432x288 with 1 Axes>"
            ]
          },
          "metadata": {
            "tags": [],
            "needs_background": "light"
          }
        }
      ]
    },
    {
      "cell_type": "code",
      "metadata": {
        "id": "NfI99Tnoyj6Y",
        "colab_type": "code",
        "colab": {}
      },
      "source": [
        ""
      ],
      "execution_count": 45,
      "outputs": []
    }
  ]
}